{
 "cells": [
  {
   "cell_type": "code",
   "execution_count": 1,
   "metadata": {},
   "outputs": [
    {
     "name": "stderr",
     "output_type": "stream",
     "text": [
      "c:\\Users\\ASUS\\AppData\\Local\\Programs\\Python\\Python312\\Lib\\site-packages\\keras\\src\\optimizers\\base_optimizer.py:33: UserWarning: Argument `decay` is no longer supported and will be ignored.\n",
      "  warnings.warn(\n",
      "WARNING:absl:Compiled the loaded model, but the compiled metrics have yet to be built. `model.compile_metrics` will be empty until you train or evaluate the model.\n",
      "WARNING:absl:Error in loading the saved optimizer state. As a result, your model is starting with a freshly initialized optimizer.\n"
     ]
    },
    {
     "name": "stdout",
     "output_type": "stream",
     "text": [
      " * Serving Flask app '__main__'\n",
      " * Debug mode: on\n"
     ]
    },
    {
     "name": "stderr",
     "output_type": "stream",
     "text": [
      "INFO:werkzeug:\u001b[31m\u001b[1mWARNING: This is a development server. Do not use it in a production deployment. Use a production WSGI server instead.\u001b[0m\n",
      " * Running on http://127.0.0.1:5000\n",
      "INFO:werkzeug:\u001b[33mPress CTRL+C to quit\u001b[0m\n",
      "INFO:werkzeug: * Restarting with stat\n"
     ]
    },
    {
     "ename": "SystemExit",
     "evalue": "1",
     "output_type": "error",
     "traceback": [
      "An exception has occurred, use %tb to see the full traceback.\n",
      "\u001b[1;31mSystemExit\u001b[0m\u001b[1;31m:\u001b[0m 1\n"
     ]
    },
    {
     "name": "stderr",
     "output_type": "stream",
     "text": [
      "c:\\Users\\ASUS\\AppData\\Local\\Programs\\Python\\Python312\\Lib\\site-packages\\IPython\\core\\interactiveshell.py:3585: UserWarning: To exit: use 'exit', 'quit', or Ctrl-D.\n",
      "  warn(\"To exit: use 'exit', 'quit', or Ctrl-D.\", stacklevel=1)\n"
     ]
    }
   ],
   "source": [
    "import os\n",
    "import numpy as np\n",
    "from flask import Flask, request, jsonify, render_template, session\n",
    "from tensorflow.keras.models import load_model\n",
    "from tensorflow.keras.preprocessing.image import load_img, img_to_array\n",
    "\n",
    "# Initialize the Flask app\n",
    "app = Flask(__name__)\n",
    "# app.secret_key = 'your_secret_key'  # For session management\n",
    "\n",
    "# Load the pre-trained model\n",
    "model_path = \"Model/model_v1_inceptionV3.h5\"  # Update the path to your model\n",
    "food_recognition_model = load_model(model_path)\n",
    "\n",
    "# Define the list of food classes (based on your dataset structure)\n",
    "food_classes = [\n",
    "    \"burger\", \"butter_naan\", \"chai\", \"chapati\", \"chole_bhature\",\n",
    "    \"dal_makhani\", \"dhokla\", \"fried_rice\", \"idli\", \"jalebi\",\n",
    "    \"kaathi_rolls\", \"kadai_paneer\", \"kulfi\", \"masala_dosa\", \"momos\",\n",
    "    \"paani_puri\", \"pav_bhaji\", \"pizza\", \"samosa\"\n",
    "]\n",
    "\n",
    "\n",
    "# Define routes for your Flask app\n",
    "@app.route('/')\n",
    "def home():\n",
    "    return render_template('index.html')\n",
    "\n",
    "@app.route('/image_upload')\n",
    "def image_upload():\n",
    "    return render_template('image_upload.html')\n",
    "\n",
    "@app.route('/health')\n",
    "def health():\n",
    "    return render_template('health.html')\n",
    "\n",
    "@app.route('/gender')\n",
    "def gender():\n",
    "    return render_template('gender.html')\n",
    "\n",
    "@app.route('/upload', methods=['POST'])\n",
    "def upload_image():\n",
    "    file = request.files.get('image')  # Get the uploaded file\n",
    "    if file:\n",
    "        try:\n",
    "            # Use the file's stream (convert to BytesIO if necessary)\n",
    "            from io import BytesIO\n",
    "            file_stream = BytesIO(file.read())  # Convert to BytesIO object\n",
    "            \n",
    "            # Load the image using Keras's load_img\n",
    "            image = load_img(file_stream, target_size=(299, 299))  # InceptionV3 input size\n",
    "            image_array = img_to_array(image) / 255.0  # Normalize pixel values to [0, 1]\n",
    "            image_array = np.expand_dims(image_array, axis=0)  # Add batch dimension\n",
    "\n",
    "            # Make predictions using the food recognition model\n",
    "            predictions = food_recognition_model.predict(image_array)\n",
    "            food_index = np.argmax(predictions)\n",
    "\n",
    "            # Get the predicted food label\n",
    "            if food_index < len(food_classes):\n",
    "                food_label = food_classes[food_index]\n",
    "            else:\n",
    "                return jsonify({'error': 'Prediction index out of range'}), 400\n",
    "\n",
    "            # Check for allergens in user health information (stored in session)\n",
    "            user_allergies = session.get('allergies', [])\n",
    "            detected_allergens = detect_allergens(food_label)\n",
    "\n",
    "            # Compare detected allergens with user's allergies\n",
    "            if any(allergen in user_allergies for allergen in detected_allergens):\n",
    "                message = f\"Warning! The food '{food_label}' contains allergens you are allergic to: {', '.join(detected_allergens)}.\"\n",
    "            else:\n",
    "                message = f\"No allergens detected in '{food_label}'. It should be safe to consume.\"\n",
    "\n",
    "            # Render the result page\n",
    "            return render_template('result.html', food_label=food_label, message=message)\n",
    "        except Exception as e:\n",
    "            return jsonify({'error': str(e)}), 500\n",
    "\n",
    "    return jsonify({'error': 'No file uploaded'}), 400\n",
    "\n",
    "\n",
    "\n",
    "def detect_allergens(food_label):\n",
    "    \"\"\"\n",
    "    Simulated function to detect allergens based on food label.\n",
    "    Replace with your actual allergy detection logic if needed.\n",
    "    \"\"\"\n",
    "    # Example mapping of allergens to food categories\n",
    "    allergen_mapping = {\n",
    "        'burger': ['Gluten'],\n",
    "        'pizza': ['Dairy', 'Gluten'],\n",
    "        'samosa': ['Gluten'],\n",
    "        # Add more mappings as needed\n",
    "    }\n",
    "    return allergen_mapping.get(food_label, [])\n",
    "\n",
    "@app.route('/submit_health_info', methods=['POST'])\n",
    "def submit_health_info():\n",
    "    data = request.json\n",
    "    allergies = data.get('allergies', [])\n",
    "    session['allergies'] = allergies  # Store allergies in the session\n",
    "    return jsonify({'message': 'Health information received'}), 200\n",
    "\n",
    "if __name__ == '__main__':\n",
    "    app.run(debug=True)\n"
   ]
  },
  {
   "cell_type": "code",
   "execution_count": 1,
   "metadata": {},
   "outputs": [
    {
     "name": "stdout",
     "output_type": "stream",
     "text": [
      "CSV file 'Food_Allergy_Data.csv' created successfully.\n"
     ]
    }
   ],
   "source": [
    "import pandas as pd\n",
    "\n",
    "# Create data for food items, ingredients, and common allergies\n",
    "data = {\n",
    "    \"Food Item\": [\n",
    "        \"burger\", \"butter_naan\", \"chai\", \"chapati\", \"chole_bhature\",\n",
    "        \"dal_makhani\", \"dhokla\", \"fried_rice\", \"idli\", \"jalebi\",\n",
    "        \"kaathi_rolls\", \"kadai_paneer\", \"kulfi\", \"masala_dosa\", \"momos\",\n",
    "        \"paani_puri\", \"pakode\", \"pav_bhaji\", \"pizza\", \"samosa\"\n",
    "    ],\n",
    "    \"Ingredients\": [\n",
    "        \"Bread, patty (beef/chicken/veg), lettuce, tomato, cheese, mayo\",\n",
    "        \"All-purpose flour, butter, salt, water\",\n",
    "        \"Tea leaves, milk, water, sugar, spices (cardamom, ginger)\",\n",
    "        \"Whole wheat flour, water, salt\",\n",
    "        \"Chickpeas, flour, spices, oil, yogurt\",\n",
    "        \"Lentils, butter, cream, spices (cumin, garam masala)\",\n",
    "        \"Gram flour, yogurt, mustard seeds, green chilies\",\n",
    "        \"Rice, vegetables, soy sauce, oil, spices\",\n",
    "        \"Rice, lentils, water, salt\",\n",
    "        \"Flour, sugar, ghee, cardamom\",\n",
    "        \"Flatbread, spiced filling (veg/chicken), chutney\",\n",
    "        \"Paneer, tomatoes, cream, spices\",\n",
    "        \"Milk, sugar, cardamom, saffron\",\n",
    "        \"Rice, lentils, potato filling, spices, ghee\",\n",
    "        \"Flour, vegetables/meat, spices, soy sauce\",\n",
    "        \"Flour, water, spiced water, chickpeas\",\n",
    "        \"Gram flour, onions, spices, oil\",\n",
    "        \"Pav (bread), mashed vegetables, butter, spices\",\n",
    "        \"Flour, cheese, tomato sauce, toppings (veg/non-veg)\",\n",
    "        \"Flour, potato filling, peas, spices, oil\"\n",
    "    ],\n",
    "    \"Common Allergies\": [\n",
    "        \"Gluten, dairy, egg (in mayo or bread), soy (in sauces)\",\n",
    "        \"Gluten, dairy\",\n",
    "        \"Dairy, caffeine\",\n",
    "        \"Gluten\",\n",
    "        \"Gluten, legumes (chickpeas), dairy\",\n",
    "        \"Legumes, dairy\",\n",
    "        \"Legumes (gram flour), dairy\",\n",
    "        \"Soy, gluten (in soy sauce), sesame (optional)\",\n",
    "        \"Legumes (lentils)\",\n",
    "        \"Gluten (flour), dairy (ghee)\",\n",
    "        \"Gluten\",\n",
    "        \"Dairy\",\n",
    "        \"Dairy\",\n",
    "        \"Legumes (lentils), dairy (ghee)\",\n",
    "        \"Gluten, soy\",\n",
    "        \"Gluten, legumes (chickpeas)\",\n",
    "        \"Legumes (gram flour), gluten (cross-contamination)\",\n",
    "        \"Gluten, dairy\",\n",
    "        \"Gluten, dairy, soy\",\n",
    "        \"Gluten, legumes (peas), dairy (optional)\"\n",
    "    ]\n",
    "}\n",
    "\n",
    "# Convert data to DataFrame\n",
    "df = pd.DataFrame(data)\n",
    "\n",
    "# Save to CSV\n",
    "df.to_csv('Food_Allergy_Data.csv', index=False)\n",
    "\n",
    "print(\"CSV file 'Food_Allergy_Data.csv' created successfully.\")\n"
   ]
  },
  {
   "cell_type": "code",
   "execution_count": 2,
   "metadata": {},
   "outputs": [
    {
     "ename": "NameError",
     "evalue": "name 'train_generator' is not defined",
     "output_type": "error",
     "traceback": [
      "\u001b[1;31m---------------------------------------------------------------------------\u001b[0m",
      "\u001b[1;31mNameError\u001b[0m                                 Traceback (most recent call last)",
      "Cell \u001b[1;32mIn[2], line 3\u001b[0m\n\u001b[0;32m      1\u001b[0m \u001b[38;5;66;03m# Assuming `train_generator` was used to train the model\u001b[39;00m\n\u001b[0;32m      2\u001b[0m \u001b[38;5;66;03m# Save the mapping during training:\u001b[39;00m\n\u001b[1;32m----> 3\u001b[0m class_indices \u001b[38;5;241m=\u001b[39m \u001b[43mtrain_generator\u001b[49m\u001b[38;5;241m.\u001b[39mclass_indices  \u001b[38;5;66;03m# {'burger': 0, 'butter_naan': 1, ...}\u001b[39;00m\n\u001b[0;32m      4\u001b[0m \u001b[38;5;66;03m# Reverse the mapping to align predictions with class labels\u001b[39;00m\n\u001b[0;32m      5\u001b[0m food_classes \u001b[38;5;241m=\u001b[39m {v: k \u001b[38;5;28;01mfor\u001b[39;00m k, v \u001b[38;5;129;01min\u001b[39;00m class_indices\u001b[38;5;241m.\u001b[39mitems()}\n",
      "\u001b[1;31mNameError\u001b[0m: name 'train_generator' is not defined"
     ]
    }
   ],
   "source": [
    "# Assuming `train_generator` was used to train the model\n",
    "# Save the mapping during training:\n",
    "class_indices = train_generator.class_indices  # {'burger': 0, 'butter_naan': 1, ...}\n",
    "# Reverse the mapping to align predictions with class labels\n",
    "food_classes = {v: k for k, v in class_indices.items()}\n"
   ]
  },
  {
   "cell_type": "code",
   "execution_count": 3,
   "metadata": {},
   "outputs": [
    {
     "ename": "NameError",
     "evalue": "name 'image_array' is not defined",
     "output_type": "error",
     "traceback": [
      "\u001b[1;31m---------------------------------------------------------------------------\u001b[0m",
      "\u001b[1;31mNameError\u001b[0m                                 Traceback (most recent call last)",
      "Cell \u001b[1;32mIn[3], line 1\u001b[0m\n\u001b[1;32m----> 1\u001b[0m predictions \u001b[38;5;241m=\u001b[39m food_recognition_model\u001b[38;5;241m.\u001b[39mpredict(\u001b[43mimage_array\u001b[49m)\n\u001b[0;32m      2\u001b[0m \u001b[38;5;28mprint\u001b[39m(\u001b[38;5;124m\"\u001b[39m\u001b[38;5;124mPredictions:\u001b[39m\u001b[38;5;124m\"\u001b[39m, predictions)  \u001b[38;5;66;03m# Debugging step\u001b[39;00m\n\u001b[0;32m      3\u001b[0m food_index \u001b[38;5;241m=\u001b[39m np\u001b[38;5;241m.\u001b[39margmax(predictions)\n",
      "\u001b[1;31mNameError\u001b[0m: name 'image_array' is not defined"
     ]
    }
   ],
   "source": [
    "predictions = food_recognition_model.predict(image_array)\n",
    "print(\"Predictions:\", predictions)  # Debugging step\n",
    "food_index = np.argmax(predictions)\n",
    "print(\"Predicted Index:\", food_index)\n"
   ]
  }
 ],
 "metadata": {
  "kernelspec": {
   "display_name": "Python 3",
   "language": "python",
   "name": "python3"
  },
  "language_info": {
   "codemirror_mode": {
    "name": "ipython",
    "version": 3
   },
   "file_extension": ".py",
   "mimetype": "text/x-python",
   "name": "python",
   "nbconvert_exporter": "python",
   "pygments_lexer": "ipython3",
   "version": "3.12.4"
  }
 },
 "nbformat": 4,
 "nbformat_minor": 2
}
